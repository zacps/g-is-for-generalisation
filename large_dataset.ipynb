{
 "cells": [
  {
   "cell_type": "code",
   "execution_count": 1,
   "metadata": {},
   "outputs": [],
   "source": [
    "%load_ext autoreload\n",
    "%autoreload 2"
   ]
  },
  {
   "cell_type": "code",
   "execution_count": 2,
   "metadata": {},
   "outputs": [],
   "source": [
    "import os\n",
    "import pickle\n",
    "from tqdm.auto import tqdm\n",
    "import gc\n",
    "from glob import glob\n",
    "import pandas as pd\n",
    "import numpy as np\n",
    "from joblib import Parallel, delayed"
   ]
  },
  {
   "cell_type": "code",
   "execution_count": 21,
   "metadata": {},
   "outputs": [],
   "source": [
    "from codebench import *"
   ]
  },
  {
   "cell_type": "code",
   "execution_count": 56,
   "metadata": {},
   "outputs": [],
   "source": [
    "def eval_semester(semester):\n",
    "    all_data = []\n",
    "    labels = []\n",
    "    for klass in classes(semester):\n",
    "        first_assessment = first_assessment_for_class(klass)\n",
    "        if first_assessment is None:\n",
    "            continue\n",
    "        \n",
    "        def inner(user):\n",
    "            #logs = []\n",
    "            #for assessment in assessments(klass):\n",
    "            #    logs.append(logs_for_user(user, assessment))\n",
    "            logs = logs_for_user(user, first_assessment)\n",
    "            final_grade = parse_final_grade(f'{user}/grades/final_grade.data')\n",
    "            return (logs, final_grade)\n",
    "        \n",
    "        for user in users(klass):\n",
    "            logs, grade = inner(user)\n",
    "            all_data.append(logs)\n",
    "            labels.append(grade)\n",
    "            \n",
    "    return all_data, labels"
   ]
  },
  {
   "cell_type": "code",
   "execution_count": 57,
   "metadata": {},
   "outputs": [],
   "source": [
    "semester_data = Parallel(n_jobs=10)(\n",
    "    delayed(eval_semester)(semester) for semester in semesters(r\"F:\\data\\cb_dataset_v1.40.tar\\cb_dataset_v1.40\")\n",
    ")"
   ]
  },
  {
   "cell_type": "code",
   "execution_count": 58,
   "metadata": {},
   "outputs": [
    {
     "data": {
      "text/html": [
       "<div>\n",
       "<style scoped>\n",
       "    .dataframe tbody tr th:only-of-type {\n",
       "        vertical-align: middle;\n",
       "    }\n",
       "\n",
       "    .dataframe tbody tr th {\n",
       "        vertical-align: top;\n",
       "    }\n",
       "\n",
       "    .dataframe thead th {\n",
       "        text-align: right;\n",
       "    }\n",
       "</style>\n",
       "<table border=\"1\" class=\"dataframe\">\n",
       "  <thead>\n",
       "    <tr style=\"text-align: right;\">\n",
       "      <th></th>\n",
       "      <th>semester</th>\n",
       "      <th>class</th>\n",
       "      <th>student</th>\n",
       "      <th>grade</th>\n",
       "    </tr>\n",
       "  </thead>\n",
       "  <tbody>\n",
       "    <tr>\n",
       "      <th>0</th>\n",
       "      <td>2016-1</td>\n",
       "      <td>102</td>\n",
       "      <td>1088</td>\n",
       "      <td>NaN</td>\n",
       "    </tr>\n",
       "    <tr>\n",
       "      <th>1</th>\n",
       "      <td>2016-1</td>\n",
       "      <td>102</td>\n",
       "      <td>1175</td>\n",
       "      <td>NaN</td>\n",
       "    </tr>\n",
       "    <tr>\n",
       "      <th>2</th>\n",
       "      <td>2016-1</td>\n",
       "      <td>102</td>\n",
       "      <td>1278</td>\n",
       "      <td>2.59</td>\n",
       "    </tr>\n",
       "    <tr>\n",
       "      <th>3</th>\n",
       "      <td>2016-1</td>\n",
       "      <td>102</td>\n",
       "      <td>1279</td>\n",
       "      <td>0.01</td>\n",
       "    </tr>\n",
       "    <tr>\n",
       "      <th>4</th>\n",
       "      <td>2016-1</td>\n",
       "      <td>102</td>\n",
       "      <td>1280</td>\n",
       "      <td>0.00</td>\n",
       "    </tr>\n",
       "    <tr>\n",
       "      <th>...</th>\n",
       "      <td>...</td>\n",
       "      <td>...</td>\n",
       "      <td>...</td>\n",
       "      <td>...</td>\n",
       "    </tr>\n",
       "    <tr>\n",
       "      <th>3293</th>\n",
       "      <td>2021-2</td>\n",
       "      <td>357</td>\n",
       "      <td>6141</td>\n",
       "      <td>0.00</td>\n",
       "    </tr>\n",
       "    <tr>\n",
       "      <th>3294</th>\n",
       "      <td>2021-2</td>\n",
       "      <td>357</td>\n",
       "      <td>6178</td>\n",
       "      <td>0.06</td>\n",
       "    </tr>\n",
       "    <tr>\n",
       "      <th>3295</th>\n",
       "      <td>2021-2</td>\n",
       "      <td>357</td>\n",
       "      <td>6184</td>\n",
       "      <td>NaN</td>\n",
       "    </tr>\n",
       "    <tr>\n",
       "      <th>3296</th>\n",
       "      <td>2021-2</td>\n",
       "      <td>357</td>\n",
       "      <td>6193</td>\n",
       "      <td>0.02</td>\n",
       "    </tr>\n",
       "    <tr>\n",
       "      <th>3297</th>\n",
       "      <td>2021-2</td>\n",
       "      <td>357</td>\n",
       "      <td>6216</td>\n",
       "      <td>NaN</td>\n",
       "    </tr>\n",
       "  </tbody>\n",
       "</table>\n",
       "<p>3298 rows × 4 columns</p>\n",
       "</div>"
      ],
      "text/plain": [
       "     semester class  student  grade\n",
       "0      2016-1   102     1088    NaN\n",
       "1      2016-1   102     1175    NaN\n",
       "2      2016-1   102     1278   2.59\n",
       "3      2016-1   102     1279   0.01\n",
       "4      2016-1   102     1280   0.00\n",
       "...       ...   ...      ...    ...\n",
       "3293   2021-2   357     6141   0.00\n",
       "3294   2021-2   357     6178   0.06\n",
       "3295   2021-2   357     6184    NaN\n",
       "3296   2021-2   357     6193   0.02\n",
       "3297   2021-2   357     6216    NaN\n",
       "\n",
       "[3298 rows x 4 columns]"
      ]
     },
     "execution_count": 58,
     "metadata": {},
     "output_type": "execute_result"
    }
   ],
   "source": [
    "grades = [data[1] for data in semester_data]\n",
    "grades = pd.DataFrame([f for g in grades for f in g], columns=[\"semester\", \"class\", \"student\", \"grade\"]); grades"
   ]
  },
  {
   "cell_type": "code",
   "execution_count": 59,
   "metadata": {},
   "outputs": [
    {
     "data": {
      "text/html": [
       "<div>\n",
       "<style scoped>\n",
       "    .dataframe tbody tr th:only-of-type {\n",
       "        vertical-align: middle;\n",
       "    }\n",
       "\n",
       "    .dataframe tbody tr th {\n",
       "        vertical-align: top;\n",
       "    }\n",
       "\n",
       "    .dataframe thead th {\n",
       "        text-align: right;\n",
       "    }\n",
       "</style>\n",
       "<table border=\"1\" class=\"dataframe\">\n",
       "  <thead>\n",
       "    <tr style=\"text-align: right;\">\n",
       "      <th></th>\n",
       "      <th>semester</th>\n",
       "      <th>class</th>\n",
       "      <th>student</th>\n",
       "      <th>assignment_excercise</th>\n",
       "      <th>time_to_deadline</th>\n",
       "      <th>event_type</th>\n",
       "    </tr>\n",
       "  </thead>\n",
       "  <tbody>\n",
       "    <tr>\n",
       "      <th>0</th>\n",
       "      <td>2016-1</td>\n",
       "      <td>102</td>\n",
       "      <td>1278</td>\n",
       "      <td>18_1000</td>\n",
       "      <td>99 days 13:28:09.709000</td>\n",
       "      <td>text_insert</td>\n",
       "    </tr>\n",
       "    <tr>\n",
       "      <th>1</th>\n",
       "      <td>2016-1</td>\n",
       "      <td>102</td>\n",
       "      <td>1278</td>\n",
       "      <td>18_1000</td>\n",
       "      <td>99 days 13:28:08.458000</td>\n",
       "      <td>text_remove</td>\n",
       "    </tr>\n",
       "    <tr>\n",
       "      <th>2</th>\n",
       "      <td>2016-1</td>\n",
       "      <td>102</td>\n",
       "      <td>1278</td>\n",
       "      <td>18_1000</td>\n",
       "      <td>99 days 13:28:08.110000</td>\n",
       "      <td>text_insert</td>\n",
       "    </tr>\n",
       "    <tr>\n",
       "      <th>3</th>\n",
       "      <td>2016-1</td>\n",
       "      <td>102</td>\n",
       "      <td>1278</td>\n",
       "      <td>18_1000</td>\n",
       "      <td>99 days 13:27:35.096000</td>\n",
       "      <td>text_insert</td>\n",
       "    </tr>\n",
       "    <tr>\n",
       "      <th>4</th>\n",
       "      <td>2016-1</td>\n",
       "      <td>102</td>\n",
       "      <td>1278</td>\n",
       "      <td>18_1000</td>\n",
       "      <td>99 days 13:27:35.043000</td>\n",
       "      <td>text_insert</td>\n",
       "    </tr>\n",
       "    <tr>\n",
       "      <th>...</th>\n",
       "      <td>...</td>\n",
       "      <td>...</td>\n",
       "      <td>...</td>\n",
       "      <td>...</td>\n",
       "      <td>...</td>\n",
       "      <td>...</td>\n",
       "    </tr>\n",
       "    <tr>\n",
       "      <th>27</th>\n",
       "      <td>2021-2</td>\n",
       "      <td>357</td>\n",
       "      <td>6216</td>\n",
       "      <td>2808_994</td>\n",
       "      <td>26 days 00:08:27.038000</td>\n",
       "      <td>text_insert</td>\n",
       "    </tr>\n",
       "    <tr>\n",
       "      <th>28</th>\n",
       "      <td>2021-2</td>\n",
       "      <td>357</td>\n",
       "      <td>6216</td>\n",
       "      <td>2808_994</td>\n",
       "      <td>26 days 00:08:26.894000</td>\n",
       "      <td>text_insert</td>\n",
       "    </tr>\n",
       "    <tr>\n",
       "      <th>29</th>\n",
       "      <td>2021-2</td>\n",
       "      <td>357</td>\n",
       "      <td>6216</td>\n",
       "      <td>2808_994</td>\n",
       "      <td>26 days 00:08:26.694000</td>\n",
       "      <td>text_insert</td>\n",
       "    </tr>\n",
       "    <tr>\n",
       "      <th>30</th>\n",
       "      <td>2021-2</td>\n",
       "      <td>357</td>\n",
       "      <td>6216</td>\n",
       "      <td>2808_994</td>\n",
       "      <td>26 days 00:08:25.986000</td>\n",
       "      <td>text_insert</td>\n",
       "    </tr>\n",
       "    <tr>\n",
       "      <th>31</th>\n",
       "      <td>2021-2</td>\n",
       "      <td>357</td>\n",
       "      <td>6216</td>\n",
       "      <td>2808_994</td>\n",
       "      <td>26 days 00:08:24.989000</td>\n",
       "      <td>text_remove</td>\n",
       "    </tr>\n",
       "  </tbody>\n",
       "</table>\n",
       "<p>3086272 rows × 6 columns</p>\n",
       "</div>"
      ],
      "text/plain": [
       "   semester class student assignment_excercise        time_to_deadline  \\\n",
       "0    2016-1   102    1278              18_1000 99 days 13:28:09.709000   \n",
       "1    2016-1   102    1278              18_1000 99 days 13:28:08.458000   \n",
       "2    2016-1   102    1278              18_1000 99 days 13:28:08.110000   \n",
       "3    2016-1   102    1278              18_1000 99 days 13:27:35.096000   \n",
       "4    2016-1   102    1278              18_1000 99 days 13:27:35.043000   \n",
       "..      ...   ...     ...                  ...                     ...   \n",
       "27   2021-2   357    6216             2808_994 26 days 00:08:27.038000   \n",
       "28   2021-2   357    6216             2808_994 26 days 00:08:26.894000   \n",
       "29   2021-2   357    6216             2808_994 26 days 00:08:26.694000   \n",
       "30   2021-2   357    6216             2808_994 26 days 00:08:25.986000   \n",
       "31   2021-2   357    6216             2808_994 26 days 00:08:24.989000   \n",
       "\n",
       "     event_type  \n",
       "0   text_insert  \n",
       "1   text_remove  \n",
       "2   text_insert  \n",
       "3   text_insert  \n",
       "4   text_insert  \n",
       "..          ...  \n",
       "27  text_insert  \n",
       "28  text_insert  \n",
       "29  text_insert  \n",
       "30  text_insert  \n",
       "31  text_remove  \n",
       "\n",
       "[3086272 rows x 6 columns]"
      ]
     },
     "execution_count": 59,
     "metadata": {},
     "output_type": "execute_result"
    }
   ],
   "source": [
    "# length 10 (semesters)\n",
    "logs = pd.concat([klass for sem in semester_data for klass in sem[0]]); logs"
   ]
  },
  {
   "cell_type": "code",
   "execution_count": 55,
   "metadata": {},
   "outputs": [
    {
     "data": {
      "text/plain": [
       "<AxesSubplot:>"
      ]
     },
     "execution_count": 55,
     "metadata": {},
     "output_type": "execute_result"
    },
    {
     "data": {
      "image/png": "[encoded data removed]",
      "text/plain": [
       "<Figure size 432x288 with 1 Axes>"
      ]
     },
     "metadata": {
      "needs_background": "light"
     },
     "output_type": "display_data"
    }
   ],
   "source": [
    "logs.time.astype('timedelta64[s]').hist()"
   ]
  },
  {
   "cell_type": "code",
   "execution_count": 60,
   "metadata": {},
   "outputs": [],
   "source": [
    "with open('large_dataset.pickle', 'wb') as f:\n",
    "    pickle.dump({\n",
    "        \"logs\": logs,\n",
    "        \"grades\": grades\n",
    "    }, f)"
   ]
  },
  {
   "cell_type": "markdown",
   "metadata": {},
   "source": [
    "### Time to deadline"
   ]
  },
  {
   "cell_type": "code",
   "execution_count": 6,
   "metadata": {},
   "outputs": [
    {
     "data": {
      "text/plain": [
       "'F:\\\\data\\\\cb_dataset_v1.40.tar\\\\cb_dataset_v1.40\\\\2016-1\\\\102'"
      ]
     },
     "execution_count": 6,
     "metadata": {},
     "output_type": "execute_result"
    }
   ],
   "source": [
    "klass = classes(semesters(r\"F:\\data\\cb_dataset_v1.40.tar\\cb_dataset_v1.40\")[0])[0]; klass"
   ]
  },
  {
   "cell_type": "code",
   "execution_count": 7,
   "metadata": {},
   "outputs": [
    {
     "data": {
      "text/plain": [
       "'F:\\\\data\\\\cb_dataset_v1.40.tar\\\\cb_dataset_v1.40\\\\2016-1\\\\102/users\\\\1088'"
      ]
     },
     "execution_count": 7,
     "metadata": {},
     "output_type": "execute_result"
    }
   ],
   "source": [
    "user = users(klass)[0]; user"
   ]
  },
  {
   "cell_type": "code",
   "execution_count": 8,
   "metadata": {},
   "outputs": [
    {
     "data": {
      "text/plain": [
       "['F:\\\\data\\\\cb_dataset_v1.40.tar\\\\cb_dataset_v1.40\\\\2016-1\\\\102/users\\\\1088/codemirror\\\\106_1100.log']"
      ]
     },
     "execution_count": 8,
     "metadata": {},
     "output_type": "execute_result"
    }
   ],
   "source": [
    "glob(user+\"/codemirror/*\")"
   ]
  },
  {
   "cell_type": "code",
   "execution_count": 18,
   "metadata": {},
   "outputs": [
    {
     "ename": "Exception",
     "evalue": "2016-07-19 08:00:00",
     "output_type": "error",
     "traceback": [
      "\u001b[1;31m---------------------------------------------------------------------------\u001b[0m",
      "\u001b[1;31mException\u001b[0m                                 Traceback (most recent call last)",
      "\u001b[1;32m<ipython-input-18-e08826f9083b>\u001b[0m in \u001b[0;36m<module>\u001b[1;34m\u001b[0m\n\u001b[1;32m----> 1\u001b[1;33m \u001b[0mparse_codemirror\u001b[0m\u001b[1;33m(\u001b[0m\u001b[1;34mr\"F:\\\\data\\\\cb_dataset_v1.40.tar\\\\cb_dataset_v1.40\\\\2016-1\\\\102/users\\\\1088/codemirror\\\\106_1100.log\"\u001b[0m\u001b[1;33m)\u001b[0m\u001b[1;33m\u001b[0m\u001b[1;33m\u001b[0m\u001b[0m\n\u001b[0m",
      "\u001b[1;32m~\\Programming\\python\\COMPSCI 747\\codebench.py\u001b[0m in \u001b[0;36mparse_codemirror\u001b[1;34m(path)\u001b[0m\n\u001b[0;32m     18\u001b[0m     )\n\u001b[0;32m     19\u001b[0m \u001b[1;33m\u001b[0m\u001b[0m\n\u001b[1;32m---> 20\u001b[1;33m     \u001b[1;32mraise\u001b[0m \u001b[0mException\u001b[0m\u001b[1;33m(\u001b[0m\u001b[0mdeadline\u001b[0m\u001b[1;33m)\u001b[0m\u001b[1;33m\u001b[0m\u001b[1;33m\u001b[0m\u001b[0m\n\u001b[0m\u001b[0;32m     21\u001b[0m \u001b[1;33m\u001b[0m\u001b[0m\n\u001b[0;32m     22\u001b[0m     \u001b[1;32mwith\u001b[0m \u001b[0mopen\u001b[0m\u001b[1;33m(\u001b[0m\u001b[0mpath\u001b[0m\u001b[1;33m,\u001b[0m \u001b[0mencoding\u001b[0m\u001b[1;33m=\u001b[0m\u001b[1;34m'utf-8'\u001b[0m\u001b[1;33m)\u001b[0m \u001b[1;32mas\u001b[0m \u001b[0mf\u001b[0m\u001b[1;33m:\u001b[0m\u001b[1;33m\u001b[0m\u001b[1;33m\u001b[0m\u001b[0m\n",
      "\u001b[1;31mException\u001b[0m: 2016-07-19 08:00:00"
     ]
    }
   ],
   "source": [
    "parse_codemirror(r\"F:\\\\data\\\\cb_dataset_v1.40.tar\\\\cb_dataset_v1.40\\\\2016-1\\\\102/users\\\\1088/codemirror\\\\106_1100.log\")"
   ]
  },
  {
   "cell_type": "code",
   "execution_count": 16,
   "metadata": {},
   "outputs": [
    {
     "name": "stdout",
     "output_type": "stream",
     "text": [
      "106.data\n",
      "126.data\n",
      "136.data\n",
      "149.data\n",
      "158.data\n",
      "173.data\n",
      "18.data\n",
      "184.data\n",
      "199.data\n",
      "208.data\n",
      "217.data\n",
      "44.data\n",
      "59.data\n",
      "75.data\n",
      "97.data\n"
     ]
    }
   ],
   "source": [
    "!ls F:\\\\data\\\\cb_dataset_v1.40.tar\\\\cb_dataset_v1.40\\\\2016-1\\\\102/users\\\\1088/codemirror\\\\106_1100.log/../../../../assessments/"
   ]
  },
  {
   "cell_type": "code",
   "execution_count": null,
   "metadata": {},
   "outputs": [],
   "source": []
  }
 ],
 "metadata": {
  "kernelspec": {
   "display_name": "Python 3 (ipykernel)",
   "language": "python",
   "name": "python3"
  },
  "language_info": {
   "codemirror_mode": {
    "name": "ipython",
    "version": 3
   },
   "file_extension": ".py",
   "mimetype": "text/x-python",
   "name": "python",
   "nbconvert_exporter": "python",
   "pygments_lexer": "ipython3",
   "version": "3.9.12"
  }
 },
 "nbformat": 4,
 "nbformat_minor": 4
}
