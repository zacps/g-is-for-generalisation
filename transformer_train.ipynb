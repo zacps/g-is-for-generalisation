{
 "cells": [
  {
   "cell_type": "code",
   "execution_count": 25,
   "id": "e5f039e0-b989-43d5-8058-bb0c1b32d61f",
   "metadata": {},
   "outputs": [
    {
     "name": "stderr",
     "output_type": "stream",
     "text": [
      "/home/zac/.local/lib/python3.9/site-packages/tensorflow_addons/utils/ensure_tf_install.py:53: UserWarning: Tensorflow Addons supports using Python ops for all Tensorflow versions above or equal to 2.6.0 and strictly below 2.9.0 (nightly versions are not supported). \n",
      " The versions of TensorFlow you are currently using is 2.9.0 and is not supported. \n",
      "Some things might work, some things might not.\n",
      "If you were to encounter a bug, do not file an issue.\n",
      "If you want to make sure you're using a tested and supported configuration, either change the TensorFlow version or the TensorFlow Addons's version. \n",
      "You can find the compatibility matrix in TensorFlow Addon's readme:\n",
      "https://github.com/tensorflow/addons\n",
      "  warnings.warn(\n"
     ]
    }
   ],
   "source": [
    "import tensorflow as tf\n",
    "from tensorflow import keras\n",
    "from tensorflow.keras import layers\n",
    "import pickle\n",
    "import pandas as pd\n",
    "import numpy as np\n",
    "from sklearn.preprocessing import OneHotEncoder\n",
    "from tqdm.keras import TqdmCallback\n",
    "import tensorflow_addons as tfa"
   ]
  },
  {
   "cell_type": "code",
   "execution_count": 2,
   "id": "b6385ee6-9806-49a5-9ddd-0525b539421e",
   "metadata": {},
   "outputs": [
    {
     "name": "stdout",
     "output_type": "stream",
     "text": [
      "Requirement already satisfied: matplotlib in /home/zac/.local/lib/python3.9/site-packages (3.5.2)\n",
      "Requirement already satisfied: fonttools>=4.22.0 in /home/zac/.local/lib/python3.9/site-packages (from matplotlib) (4.33.3)\n",
      "Requirement already satisfied: numpy>=1.17 in /home/zac/.local/lib/python3.9/site-packages (from matplotlib) (1.21.4)\n",
      "Requirement already satisfied: cycler>=0.10 in /home/zac/.local/lib/python3.9/site-packages (from matplotlib) (0.11.0)\n",
      "Requirement already satisfied: pillow>=6.2.0 in /home/zac/.local/lib/python3.9/site-packages (from matplotlib) (9.1.1)\n",
      "Requirement already satisfied: python-dateutil>=2.7 in /home/zac/.local/lib/python3.9/site-packages (from matplotlib) (2.8.2)\n",
      "Requirement already satisfied: packaging>=20.0 in /usr/lib/python3.9/site-packages (from matplotlib) (21.3)\n",
      "Requirement already satisfied: kiwisolver>=1.0.1 in /home/zac/.local/lib/python3.9/site-packages (from matplotlib) (1.4.2)\n",
      "Requirement already satisfied: pyparsing>=2.2.1 in /usr/lib/python3.9/site-packages (from matplotlib) (3.0.7)\n",
      "Requirement already satisfied: six>=1.5 in /home/zac/.local/lib/python3.9/site-packages (from python-dateutil>=2.7->matplotlib) (1.16.0)\n"
     ]
    }
   ],
   "source": [
    "!pip install --user matplotlib"
   ]
  },
  {
   "cell_type": "markdown",
   "id": "ec7e2c3f-b97c-4919-9aac-310ff8f6b58e",
   "metadata": {},
   "source": [
    "### Data loading/preprocessing"
   ]
  },
  {
   "cell_type": "code",
   "execution_count": 3,
   "id": "69bfae37-dd2e-45f4-b129-5f57d264aea9",
   "metadata": {},
   "outputs": [],
   "source": [
    "with open('large_dataset.pickle', 'rb') as f:\n",
    "    d = pickle.load(f)\n",
    "    keystrokes, grades = d['logs'], d['grades']"
   ]
  },
  {
   "cell_type": "code",
   "execution_count": 4,
   "id": "7b88f45a-4b7e-4a8a-b223-3f21146bab9d",
   "metadata": {},
   "outputs": [],
   "source": [
    "grades = grades.set_index(['semester', 'class', 'student'])\n",
    "keystrokes = keystrokes.set_index(['semester', 'class', 'student'])\n",
    "keystrokes.time_to_deadline = keystrokes.time_to_deadline.dt.total_seconds()"
   ]
  },
  {
   "cell_type": "markdown",
   "id": "5e8de4a8-7aba-4a4e-94ee-516dcc7f99e5",
   "metadata": {},
   "source": [
    "Filter out students for which we don't have a final grade::"
   ]
  },
  {
   "cell_type": "code",
   "execution_count": 5,
   "id": "1063dbfb-225a-489b-9bb1-ac8a67c48549",
   "metadata": {},
   "outputs": [],
   "source": [
    "mask = ~grades.grade.isna()\n",
    "grades = grades[mask]\n",
    "keystrokes = keystrokes[keystrokes.index.isin(grades.index)]"
   ]
  },
  {
   "cell_type": "code",
   "execution_count": 6,
   "id": "a3c484c2-15b2-4e49-8275-f167776a0ba5",
   "metadata": {},
   "outputs": [],
   "source": [
    "# One-hot encode the event type\n",
    "encoder = OneHotEncoder(sparse=False)\n",
    "one_hot_type = encoder.fit_transform(keystrokes.event_type.to_numpy().reshape(-1,1)); one_hot_type.shape\n",
    "for i, cat in enumerate(encoder.categories_[0]):\n",
    "    keystrokes[cat] = one_hot_type[:,i]"
   ]
  },
  {
   "cell_type": "code",
   "execution_count": 7,
   "id": "ab63f630-f327-4fdc-bd31-b4cf3ef07d98",
   "metadata": {},
   "outputs": [],
   "source": [
    "# Normalise the time_to_deadline per excercise\n",
    "keystrokes['normalised_deadlines'] = keystrokes.groupby(['semester', 'class', 'student', 'assignment_excercise']).time_to_deadline.apply(lambda group: group / group.max())"
   ]
  },
  {
   "cell_type": "code",
   "execution_count": 8,
   "id": "cb3e07c6-2412-4820-9fd4-238a60a00964",
   "metadata": {},
   "outputs": [],
   "source": [
    "keystrokes_np = keystrokes.groupby(['semester', 'class', 'student', 'assignment_excercise']).apply(lambda g: g[['normalised_deadlines', *encoder.categories_[0]]].to_numpy())"
   ]
  },
  {
   "cell_type": "code",
   "execution_count": 9,
   "id": "17aececd-d3b5-45ee-bc9a-57ceb28872ad",
   "metadata": {},
   "outputs": [
    {
     "data": {
      "text/html": [
       "<div>\n",
       "<style scoped>\n",
       "    .dataframe tbody tr th:only-of-type {\n",
       "        vertical-align: middle;\n",
       "    }\n",
       "\n",
       "    .dataframe tbody tr th {\n",
       "        vertical-align: top;\n",
       "    }\n",
       "\n",
       "    .dataframe thead th {\n",
       "        text-align: right;\n",
       "    }\n",
       "</style>\n",
       "<table border=\"1\" class=\"dataframe\">\n",
       "  <thead>\n",
       "    <tr style=\"text-align: right;\">\n",
       "      <th></th>\n",
       "      <th></th>\n",
       "      <th></th>\n",
       "      <th>grade</th>\n",
       "    </tr>\n",
       "    <tr>\n",
       "      <th>semester</th>\n",
       "      <th>class</th>\n",
       "      <th>student</th>\n",
       "      <th></th>\n",
       "    </tr>\n",
       "  </thead>\n",
       "  <tbody>\n",
       "    <tr>\n",
       "      <th rowspan=\"5\" valign=\"top\">2016-1</th>\n",
       "      <th rowspan=\"5\" valign=\"top\">102</th>\n",
       "      <th>1278</th>\n",
       "      <td>2.59</td>\n",
       "    </tr>\n",
       "    <tr>\n",
       "      <th>1278</th>\n",
       "      <td>2.59</td>\n",
       "    </tr>\n",
       "    <tr>\n",
       "      <th>1278</th>\n",
       "      <td>2.59</td>\n",
       "    </tr>\n",
       "    <tr>\n",
       "      <th>1278</th>\n",
       "      <td>2.59</td>\n",
       "    </tr>\n",
       "    <tr>\n",
       "      <th>1278</th>\n",
       "      <td>2.59</td>\n",
       "    </tr>\n",
       "    <tr>\n",
       "      <th>...</th>\n",
       "      <th>...</th>\n",
       "      <th>...</th>\n",
       "      <td>...</td>\n",
       "    </tr>\n",
       "    <tr>\n",
       "      <th rowspan=\"5\" valign=\"top\">2021-2</th>\n",
       "      <th rowspan=\"5\" valign=\"top\">357</th>\n",
       "      <th>6193</th>\n",
       "      <td>0.02</td>\n",
       "    </tr>\n",
       "    <tr>\n",
       "      <th>6193</th>\n",
       "      <td>0.02</td>\n",
       "    </tr>\n",
       "    <tr>\n",
       "      <th>6193</th>\n",
       "      <td>0.02</td>\n",
       "    </tr>\n",
       "    <tr>\n",
       "      <th>6193</th>\n",
       "      <td>0.02</td>\n",
       "    </tr>\n",
       "    <tr>\n",
       "      <th>6193</th>\n",
       "      <td>0.02</td>\n",
       "    </tr>\n",
       "  </tbody>\n",
       "</table>\n",
       "<p>32972 rows × 1 columns</p>\n",
       "</div>"
      ],
      "text/plain": [
       "                        grade\n",
       "semester class student       \n",
       "2016-1   102   1278      2.59\n",
       "               1278      2.59\n",
       "               1278      2.59\n",
       "               1278      2.59\n",
       "               1278      2.59\n",
       "...                       ...\n",
       "2021-2   357   6193      0.02\n",
       "               6193      0.02\n",
       "               6193      0.02\n",
       "               6193      0.02\n",
       "               6193      0.02\n",
       "\n",
       "[32972 rows x 1 columns]"
      ]
     },
     "execution_count": 9,
     "metadata": {},
     "output_type": "execute_result"
    }
   ],
   "source": [
    "grades_reindexed = grades.loc[keystrokes_np.index.droplevel(-1)]; grades_reindexed"
   ]
  },
  {
   "cell_type": "markdown",
   "id": "29a95006-0008-484f-ab38-816f723fe0a8",
   "metadata": {},
   "source": [
    "### Model"
   ]
  },
  {
   "cell_type": "code",
   "execution_count": 10,
   "id": "782c2c3f-7bf2-48e7-b3b2-e7ba06a6ae54",
   "metadata": {},
   "outputs": [],
   "source": [
    "def ragged_normalise(ragged):\n",
    "    tensor = ragged.to_tensor()\n",
    "    normalised = tf.linalg.normalize(tensor, axis=None)\n",
    "    tensor = tf.convert_to_tensor(normalised[0])\n",
    "    return tf.RaggedTensor.from_tensor(tensor, padding=0.0)"
   ]
  },
  {
   "cell_type": "code",
   "execution_count": 11,
   "id": "2e6f1be9-3aca-4ca7-85cd-92c7ef20a7bd",
   "metadata": {},
   "outputs": [],
   "source": [
    "def transformer_encoder(inputs, head_size, num_heads, ff_dim, dropout=0):\n",
    "    # Normalization and Attention\n",
    "    x = layers.MultiHeadAttention(\n",
    "        key_dim=head_size, num_heads=num_heads, dropout=dropout\n",
    "    )(inputs, inputs)\n",
    "    x = layers.Dropout(dropout)(x)\n",
    "    res = x + inputs\n",
    "\n",
    "    # Feed Forward Part\n",
    "    x = layers.LayerNormalization(epsilon=1e-6)(res)\n",
    "    x = layers.Conv1D(filters=ff_dim, kernel_size=1, activation=\"relu\")(x)\n",
    "    x = layers.Dropout(dropout)(x)\n",
    "    x = layers.Conv1D(filters=inputs.shape[-1], kernel_size=1)(x)\n",
    "    return x + res"
   ]
  },
  {
   "cell_type": "code",
   "execution_count": 12,
   "id": "320b744e-14ff-4832-8bde-f62fe9c43d3e",
   "metadata": {},
   "outputs": [],
   "source": [
    "def build_model(\n",
    "    input_shape,\n",
    "    head_size,\n",
    "    num_heads,\n",
    "    ff_dim,\n",
    "    num_transformer_blocks,\n",
    "    mlp_units,\n",
    "    dropout=0,\n",
    "    mlp_dropout=0,\n",
    "    n_classes=1\n",
    "):\n",
    "    inputs = keras.Input(shape=input_shape)\n",
    "    x = inputs\n",
    "    for _ in range(num_transformer_blocks):\n",
    "        x = transformer_encoder(x, head_size, num_heads, ff_dim, dropout)\n",
    "    x = layers.GlobalAveragePooling1D()(x)\n",
    "    for dim in mlp_units:\n",
    "        x = layers.Dense(dim, activation=\"relu\")(x)\n",
    "        x = layers.Dropout(mlp_dropout)(x)\n",
    "    outputs = layers.Dense(n_classes, activation=\"sigmoid\")(x)\n",
    "    return keras.Model(inputs, outputs)"
   ]
  },
  {
   "cell_type": "code",
   "execution_count": 13,
   "id": "fef59b17-4b35-4d2a-a13b-99ef1a2737e2",
   "metadata": {},
   "outputs": [
    {
     "name": "stderr",
     "output_type": "stream",
     "text": [
      "2022-05-19 21:32:22.063266: I tensorflow/core/platform/cpu_feature_guard.cc:193] This TensorFlow binary is optimized with oneAPI Deep Neural Network Library (oneDNN) to use the following CPU instructions in performance-critical operations:  AVX2 AVX512F AVX512_VNNI FMA\n",
      "To enable them in other operations, rebuild TensorFlow with the appropriate compiler flags.\n",
      "2022-05-19 21:32:22.483689: I tensorflow/core/common_runtime/gpu/gpu_device.cc:1532] Created device /job:localhost/replica:0/task:0/device:GPU:0 with 22310 MB memory:  -> device: 0, name: NVIDIA GeForce RTX 3090, pci bus id: 0000:d8:00.0, compute capability: 8.6\n"
     ]
    }
   ],
   "source": [
    "model = build_model(\n",
    "    (None, 7),\n",
    "    head_size=256,\n",
    "    num_heads=4,\n",
    "    ff_dim=4,\n",
    "    num_transformer_blocks=4,\n",
    "    mlp_units=[128],\n",
    "    mlp_dropout=0.4,\n",
    "    dropout=0.25\n",
    ")"
   ]
  },
  {
   "cell_type": "code",
   "execution_count": 35,
   "id": "eafa98b6-44fd-4251-8c2b-30aae5d9ea75",
   "metadata": {},
   "outputs": [],
   "source": [
    "def R_squared(y, y_pred):\n",
    "  residual = tf.reduce_sum(tf.square(tf.subtract(y, y_pred)))\n",
    "  total = tf.reduce_sum(tf.square(tf.subtract(y, tf.reduce_mean(y))))\n",
    "  r2 = tf.subtract(1.0, tf.math.divide(residual, total))\n",
    "  return r2\n"
   ]
  },
  {
   "cell_type": "code",
   "execution_count": 40,
   "id": "7ffc8a82-d28c-4b3d-9f25-ac4807ddccfa",
   "metadata": {},
   "outputs": [],
   "source": [
    "model.compile(\n",
    "    loss=\"mean_squared_error\",\n",
    "    optimizer=keras.optimizers.Adam(learning_rate=1e-4),\n",
    "    metrics=[\"mean_squared_error\"],\n",
    ")"
   ]
  },
  {
   "cell_type": "code",
   "execution_count": 15,
   "id": "4ce87ba0-81aa-4e42-b092-56ca1c35a7e7",
   "metadata": {
    "tags": []
   },
   "outputs": [],
   "source": [
    "#model.summary()"
   ]
  },
  {
   "cell_type": "markdown",
   "id": "024c2ae0-f3a3-40a5-850b-214233d6f49c",
   "metadata": {},
   "source": [
    "### Split"
   ]
  },
  {
   "cell_type": "code",
   "execution_count": 16,
   "id": "f0e5630b-0d32-4095-a2fc-0e1e64b7999a",
   "metadata": {},
   "outputs": [
    {
     "name": "stdout",
     "output_type": "stream",
     "text": [
      "2016-1 (354,)\n",
      "2016-2 (143,)\n",
      "2017-1 (417,)\n",
      "2017-2 (141,)\n",
      "2018-1 (407,)\n",
      "2018-2 (147,)\n",
      "2019-1 (408,)\n",
      "2019-2 (242,)\n",
      "2021-1 (161,)\n",
      "2021-2 (148,)\n"
     ]
    }
   ],
   "source": [
    "for semester in keystrokes_np.index.get_level_values(0).unique():\n",
    "    print(semester, keystrokes.loc[semester].index.get_level_values('student').unique().shape)"
   ]
  },
  {
   "cell_type": "code",
   "execution_count": 17,
   "id": "d8506040-8fd7-43e4-8384-42382207e927",
   "metadata": {},
   "outputs": [
    {
     "data": {
      "text/plain": [
       "'2.9.0'"
      ]
     },
     "execution_count": 17,
     "metadata": {},
     "output_type": "execute_result"
    }
   ],
   "source": [
    "keras.__version__"
   ]
  },
  {
   "cell_type": "code",
   "execution_count": 18,
   "id": "843c2e88-becd-46da-a30b-1c0cbacc0ba3",
   "metadata": {},
   "outputs": [],
   "source": [
    "sequence_max = 5000"
   ]
  },
  {
   "cell_type": "code",
   "execution_count": 19,
   "id": "085e24bf-020f-48e2-998f-80c1c71bc10b",
   "metadata": {},
   "outputs": [
    {
     "data": {
      "text/plain": [
       "<AxesSubplot:>"
      ]
     },
     "execution_count": 19,
     "metadata": {},
     "output_type": "execute_result"
    },
    {
     "data": {
      "image/png": "[encoded data removed]",
      "text/plain": [
       "<Figure size 432x288 with 1 Axes>"
      ]
     },
     "metadata": {
      "needs_background": "light"
     },
     "output_type": "display_data"
    }
   ],
   "source": [
    "keystrokes.groupby(['semester', 'class', 'student', 'assignment_excercise']).time_to_deadline.count().hist(log=True)"
   ]
  },
  {
   "cell_type": "code",
   "execution_count": 20,
   "id": "ea7b9a74-8ed2-46bd-8681-0b8e912b4060",
   "metadata": {},
   "outputs": [],
   "source": [
    "x_train = keystrokes_np.loc[['2016-1', '2016-2', '2017-1', '2017-2', '2018-1', '2018-2', '2019-1', '2019-2']]\n",
    "x_train = tf.keras.utils.pad_sequences(x_train, maxlen=sequence_max, dtype=float, padding='post', truncating='post')\n",
    "y_train = grades_reindexed.loc[['2016-1', '2016-2', '2017-1', '2017-2', '2018-1', '2018-2', '2019-1', '2019-2']].to_numpy()\n",
    "\n",
    "x_val = keystrokes_np.loc['2021-1']\n",
    "x_val = tf.keras.utils.pad_sequences(x_val, maxlen=sequence_max, dtype=float, padding='post', truncating='post')\n",
    "y_val = grades_reindexed.loc['2021-1'].to_numpy()\n",
    "\n",
    "x_test = keystrokes_np.loc['2021-2']\n",
    "x_test = tf.keras.utils.pad_sequences(x_test, maxlen=sequence_max, dtype=float, padding='post', truncating='post')\n",
    "y_test = grades_reindexed.loc['2021-2'].to_numpy()"
   ]
  },
  {
   "cell_type": "markdown",
   "id": "7924371d-bb5b-4e97-b773-ede23647a784",
   "metadata": {},
   "source": [
    "### Training"
   ]
  },
  {
   "cell_type": "code",
   "execution_count": 41,
   "id": "ccc493dc-b751-4661-ab46-fa6171d12eed",
   "metadata": {},
   "outputs": [
    {
     "data": {
      "text/plain": [
       "16998"
      ]
     },
     "execution_count": 41,
     "metadata": {},
     "output_type": "execute_result"
    }
   ],
   "source": [
    "import gc; gc.collect()"
   ]
  },
  {
   "cell_type": "code",
   "execution_count": 43,
   "id": "727e892a-c658-4839-858c-5c1a0bb7c2b6",
   "metadata": {},
   "outputs": [],
   "source": [
    "callbacks = [\n",
    "    keras.callbacks.EarlyStopping(patience=10, restore_best_weights=True),\n",
    "    keras.callbacks.TensorBoard(log_dir='./logs', histogram_freq=0,\n",
    "          write_graph=True),\n",
    "    keras.callbacks.ModelCheckpoint('checkpoint')\n",
    "]"
   ]
  },
  {
   "cell_type": "code",
   "execution_count": null,
   "id": "e4e88f36-05b6-4b9b-99fa-1d344b2ad784",
   "metadata": {},
   "outputs": [
    {
     "name": "stdout",
     "output_type": "stream",
     "text": [
      "Epoch 1/30\n",
      "12882/14230 [==========================>...] - ETA: 4:39 - loss: 24.0389 - mean_squared_error: 24.0389"
     ]
    }
   ],
   "source": [
    "model.fit(\n",
    "    x_train,\n",
    "    y_train,\n",
    "    validation_data=(x_val,y_val),\n",
    "    epochs=30,\n",
    "    batch_size=2,\n",
    "    callbacks=callbacks,\n",
    ")"
   ]
  },
  {
   "cell_type": "code",
   "execution_count": null,
   "id": "92cc68e4-3133-44f1-84a7-dcea7eca29f9",
   "metadata": {},
   "outputs": [],
   "source": []
  }
 ],
 "metadata": {
  "kernelspec": {
   "display_name": "Python 3 (ipykernel)",
   "language": "python",
   "name": "python3"
  },
  "language_info": {
   "codemirror_mode": {
    "name": "ipython",
    "version": 3
   },
   "file_extension": ".py",
   "mimetype": "text/x-python",
   "name": "python",
   "nbconvert_exporter": "python",
   "pygments_lexer": "ipython3",
   "version": "3.9.12"
  }
 },
 "nbformat": 4,
 "nbformat_minor": 5
}
